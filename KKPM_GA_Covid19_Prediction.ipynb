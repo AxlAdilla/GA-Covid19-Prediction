{
  "nbformat": 4,
  "nbformat_minor": 0,
  "metadata": {
    "colab": {
      "name": "KKPM GA Covid19 Prediction.ipynb",
      "provenance": [],
      "collapsed_sections": [],
      "toc_visible": true
    },
    "kernelspec": {
      "name": "python3",
      "display_name": "Python 3"
    },
    "language_info": {
      "name": "python"
    }
  },
  "cells": [
    {
      "cell_type": "markdown",
      "metadata": {
        "id": "2C1Jyyxifthc"
      },
      "source": [
        "Kelompok : \n",
        "\n",
        "1.  Affi Nizar Suksmawati (20/466390/PPA/05956) \n",
        "2.  Affifah Mutiara Pertiwi (20/466391/PPA/05957)\n",
        "3.  Axl Adilla  (20/466397/PPA/05963)\n",
        "4.  Bagaskoro Saputro (20/466398/PPA/05964)"
      ]
    },
    {
      "cell_type": "markdown",
      "metadata": {
        "id": "jDVp61sEfpqK"
      },
      "source": [
        "---"
      ]
    },
    {
      "cell_type": "markdown",
      "metadata": {
        "id": "gBChy7I4fmYj"
      },
      "source": [
        "### Import Dataset"
      ]
    },
    {
      "cell_type": "code",
      "metadata": {
        "colab": {
          "base_uri": "https://localhost:8080/"
        },
        "id": "xp845jn-bAUd",
        "outputId": "e47ef127-d735-475f-e52f-4941529ccdf9"
      },
      "source": [
        "!wget 'https://raw.githubusercontent.com/AxlAdilla/GA-Covid19-Prediction/main/50DataKawalCovid.csv'"
      ],
      "execution_count": null,
      "outputs": [
        {
          "output_type": "stream",
          "text": [
            "--2021-04-06 14:19:07--  https://raw.githubusercontent.com/AxlAdilla/GA-Covid19-Prediction/main/50DataKawalCovid.csv\n",
            "Resolving raw.githubusercontent.com (raw.githubusercontent.com)... 185.199.110.133, 185.199.108.133, 185.199.111.133, ...\n",
            "Connecting to raw.githubusercontent.com (raw.githubusercontent.com)|185.199.110.133|:443... connected.\n",
            "HTTP request sent, awaiting response... 200 OK\n",
            "Length: 556 [text/plain]\n",
            "Saving to: ‘50DataKawalCovid.csv.14’\n",
            "\n",
            "50DataKawalCovid.cs 100%[===================>]     556  --.-KB/s    in 0s      \n",
            "\n",
            "2021-04-06 14:19:07 (6.91 MB/s) - ‘50DataKawalCovid.csv.14’ saved [556/556]\n",
            "\n"
          ],
          "name": "stdout"
        }
      ]
    },
    {
      "cell_type": "markdown",
      "metadata": {
        "id": "_HGzetBxgkiT"
      },
      "source": [
        "### Import Library"
      ]
    },
    {
      "cell_type": "code",
      "metadata": {
        "id": "t0YdSyJscy1k"
      },
      "source": [
        "import pandas as pd\n",
        "import numpy as np\n",
        "import random\n",
        "import math\n",
        "import copy\n",
        "import matplotlib.pyplot as plt"
      ],
      "execution_count": null,
      "outputs": []
    },
    {
      "cell_type": "code",
      "metadata": {
        "colab": {
          "base_uri": "https://localhost:8080/",
          "height": 198
        },
        "id": "uR1_a4gCc0py",
        "outputId": "d4175715-5902-4ab4-97bf-bf76d562c9ed"
      },
      "source": [
        "raw = pd.read_csv('50DataKawalCovid.csv')\n",
        "raw.head()"
      ],
      "execution_count": null,
      "outputs": [
        {
          "output_type": "execute_result",
          "data": {
            "text/html": [
              "<div>\n",
              "<style scoped>\n",
              "    .dataframe tbody tr th:only-of-type {\n",
              "        vertical-align: middle;\n",
              "    }\n",
              "\n",
              "    .dataframe tbody tr th {\n",
              "        vertical-align: top;\n",
              "    }\n",
              "\n",
              "    .dataframe thead th {\n",
              "        text-align: right;\n",
              "    }\n",
              "</style>\n",
              "<table border=\"1\" class=\"dataframe\">\n",
              "  <thead>\n",
              "    <tr style=\"text-align: right;\">\n",
              "      <th></th>\n",
              "      <th>date</th>\n",
              "      <th>total_case</th>\n",
              "    </tr>\n",
              "  </thead>\n",
              "  <tbody>\n",
              "    <tr>\n",
              "      <th>0</th>\n",
              "      <td>2-Mar</td>\n",
              "      <td>2</td>\n",
              "    </tr>\n",
              "    <tr>\n",
              "      <th>1</th>\n",
              "      <td>3-Mar</td>\n",
              "      <td>2</td>\n",
              "    </tr>\n",
              "    <tr>\n",
              "      <th>2</th>\n",
              "      <td>4-Mar</td>\n",
              "      <td>2</td>\n",
              "    </tr>\n",
              "    <tr>\n",
              "      <th>3</th>\n",
              "      <td>5-Mar</td>\n",
              "      <td>2</td>\n",
              "    </tr>\n",
              "    <tr>\n",
              "      <th>4</th>\n",
              "      <td>6-Mar</td>\n",
              "      <td>4</td>\n",
              "    </tr>\n",
              "  </tbody>\n",
              "</table>\n",
              "</div>"
            ],
            "text/plain": [
              "    date  total_case\n",
              "0  2-Mar           2\n",
              "1  3-Mar           2\n",
              "2  4-Mar           2\n",
              "3  5-Mar           2\n",
              "4  6-Mar           4"
            ]
          },
          "metadata": {
            "tags": []
          },
          "execution_count": 106
        }
      ]
    },
    {
      "cell_type": "markdown",
      "metadata": {
        "id": "5BwX11ykfkqu"
      },
      "source": [
        "### Preprocessing Data "
      ]
    },
    {
      "cell_type": "code",
      "metadata": {
        "colab": {
          "base_uri": "https://localhost:8080/"
        },
        "id": "Sg9blofgc_cH",
        "outputId": "1518f2be-a0ee-44b2-8b4c-3ae66f82eba0"
      },
      "source": [
        "slidingWindow = 5\n",
        "\n",
        "dataset = []\n",
        "numOfData = len(raw) - (slidingWindow-1)\n",
        "for i in range(numOfData):\n",
        "  rowData = []\n",
        "  for j in range(slidingWindow):\n",
        "    rowData.append(raw.total_case[j + i])\n",
        "  dataset.append(rowData)\n",
        "\n",
        "dataset = np.array(dataset)\n",
        "dataset[:5]"
      ],
      "execution_count": null,
      "outputs": [
        {
          "output_type": "execute_result",
          "data": {
            "text/plain": [
              "array([[ 2,  2,  2,  2,  4],\n",
              "       [ 2,  2,  2,  4,  4],\n",
              "       [ 2,  2,  4,  4,  6],\n",
              "       [ 2,  4,  4,  6, 19],\n",
              "       [ 4,  4,  6, 19, 27]])"
            ]
          },
          "metadata": {
            "tags": []
          },
          "execution_count": 107
        }
      ]
    },
    {
      "cell_type": "code",
      "metadata": {
        "colab": {
          "base_uri": "https://localhost:8080/"
        },
        "id": "xlypNBpceHwC",
        "outputId": "85dd8751-cd7a-4184-8c33-f9a67af0acb4"
      },
      "source": [
        "dataset_x = dataset[:,:4]\n",
        "dataset_x[:5]"
      ],
      "execution_count": null,
      "outputs": [
        {
          "output_type": "execute_result",
          "data": {
            "text/plain": [
              "array([[ 2,  2,  2,  2],\n",
              "       [ 2,  2,  2,  4],\n",
              "       [ 2,  2,  4,  4],\n",
              "       [ 2,  4,  4,  6],\n",
              "       [ 4,  4,  6, 19]])"
            ]
          },
          "metadata": {
            "tags": []
          },
          "execution_count": 108
        }
      ]
    },
    {
      "cell_type": "code",
      "metadata": {
        "colab": {
          "base_uri": "https://localhost:8080/"
        },
        "id": "JIEypX9veHY7",
        "outputId": "51619c02-d7ae-40a8-a9d8-94b25a0c6dc7"
      },
      "source": [
        "dataset_y = dataset[:,4]\n",
        "dataset_y[:5]"
      ],
      "execution_count": null,
      "outputs": [
        {
          "output_type": "execute_result",
          "data": {
            "text/plain": [
              "array([ 4,  4,  6, 19, 27])"
            ]
          },
          "metadata": {
            "tags": []
          },
          "execution_count": 109
        }
      ]
    },
    {
      "cell_type": "markdown",
      "metadata": {
        "id": "-0XzbBxEg2zr"
      },
      "source": [
        "---\n"
      ]
    },
    {
      "cell_type": "markdown",
      "metadata": {
        "id": "WznELOdmmG3g"
      },
      "source": [
        "### Source Code"
      ]
    },
    {
      "cell_type": "markdown",
      "metadata": {
        "id": "OiU3_r9Ssvg3"
      },
      "source": [
        "####Random Gen\n"
      ]
    },
    {
      "cell_type": "code",
      "metadata": {
        "id": "bM-b2FykioHO"
      },
      "source": [
        "def random_generasi(): #Random Generasi Pertama\n",
        "  populasi = []\n",
        "  for i in range(numOfPopulasi):\n",
        "    individu = []\n",
        "    for j in range(genPerIndividu):\n",
        "      gen = random.random() * random.choice([-1 ,1]) * 10**random.randint(0,3)\n",
        "      individu.append(round(gen, 2))\n",
        "    populasi.append(individu)\n",
        "\n",
        "  return populasi\n",
        "  #populasi [[0.9, a, a,a,a], [b,b,b,b,b]]"
      ],
      "execution_count": null,
      "outputs": []
    },
    {
      "cell_type": "code",
      "metadata": {
        "id": "fXbSXlCN_vK7"
      },
      "source": [
        "def hitung_y_pred(individu):\n",
        "  arr_y_pred = []\n",
        "  for data_x in dataset_x:\n",
        "    y_pred = 0\n",
        "    for key, gen in enumerate(individu[:-1]):\n",
        "      y_pred += gen * data_x[key]\n",
        "    y_pred += individu[-1]\n",
        "    arr_y_pred.append(y_pred)\n",
        "\n",
        "  return arr_y_pred"
      ],
      "execution_count": null,
      "outputs": []
    },
    {
      "cell_type": "code",
      "metadata": {
        "id": "nku0n2HNeoqo"
      },
      "source": [
        "def hitung_fitness(individu_pred):\n",
        "  diff = []\n",
        "  for index in range(len(dataset_y)):\n",
        "    diff.append(abs((individu_pred[index] - dataset_y[index])/individu_pred[index]))\n",
        "  cost = sum(diff) / len(diff)\n",
        "\n",
        "  return 1/(cost + 0.01)"
      ],
      "execution_count": null,
      "outputs": []
    },
    {
      "cell_type": "markdown",
      "metadata": {
        "id": "C1pXF7oJs2_y"
      },
      "source": [
        "####Evaluasi Fitness"
      ]
    },
    {
      "cell_type": "code",
      "metadata": {
        "id": "5O0mB5qA_yHr"
      },
      "source": [
        "def evaluasi_fitness(populasi): #Hitung Fitness\n",
        "  fitness_individu = []\n",
        "  for individu in populasi:\n",
        "    individu_pred = hitung_y_pred(individu)\n",
        "    fitness_individu.append(hitung_fitness(individu_pred))\n",
        "\n",
        "  return fitness_individu\n",
        "#[0.1, 0.2, 0.3]"
      ],
      "execution_count": null,
      "outputs": []
    },
    {
      "cell_type": "markdown",
      "metadata": {
        "id": "prFio50FtF_I"
      },
      "source": [
        "#### Roullete wheel"
      ]
    },
    {
      "cell_type": "code",
      "metadata": {
        "id": "SMESNf8Xr-f1"
      },
      "source": [
        "def roulletewheel(populasi, hasil_eval, pc): #selection method\n",
        "# pilihPasangan(populasi, hasil_eval, pc)\n",
        "  probability_populasi = []\n",
        "  total_fitness = sum(hasil_eval)\n",
        "  min = 0\n",
        "  for fitness in hasil_eval:\n",
        "    probability = fitness/total_fitness * 100\n",
        "    max = min + probability\n",
        "    node = [probability, min, max]\n",
        "    min = max\n",
        "    probability_populasi.append(node)\n",
        "\n",
        "  return pilihPasangan(populasi, hasil_eval, pc, probability_populasi)\n",
        " #[[0, 3], [5, 1]]"
      ],
      "execution_count": null,
      "outputs": []
    },
    {
      "cell_type": "code",
      "metadata": {
        "id": "8rq7sWHQByJr"
      },
      "source": [
        "def pilihPasangan(populasi, hasil_eval, pc, probability_populasi):\n",
        "  # jumlah individu terpilih\n",
        "  selected_individu = int(round(len(populasi) * pc ))\n",
        "\n",
        "  # bilangan random untuk setiap individu\n",
        "  bil = []\n",
        "  for i in range(selected_individu):\n",
        "    bil.append(random.randint(0, 100))\n",
        "\n",
        "  # mencari range individu terpilih dari bilangan random yang dibangkitkan kumulatif / min max\n",
        "  list_of_parent = []\n",
        "  for i in range(selected_individu):\n",
        "    for key,probability in enumerate(probability_populasi):\n",
        "      if (probability[1] > bil[i] and probability[2] >= bil[i]):\n",
        "        list_of_parent.append(key)\n",
        "        break\n",
        "\n",
        "  # memilih pasangan dari list individu terpilih secara random\n",
        "  pasangan = []\n",
        "\n",
        "  # misal jumlah individu yang terpilih ganjil\n",
        "  if selected_individu % 2 == 1:\n",
        "    for i in range(round((selected_individu+1)/2)):\n",
        "      pairs = []\n",
        "      pairs.append(random.choice(list_of_parent))\n",
        "      pairs.append(random.choice(list_of_parent))\n",
        "      pasangan.append(pairs)\n",
        "\n",
        "  # misal jumlah individu yang terpilih genap\n",
        "  elif selected_individu % 2 == 0:\n",
        "    for i in range(round(selected_individu/2)):\n",
        "      pairs = []\n",
        "      pairs.append(random.choice(list_of_parent))\n",
        "      pairs.append(random.choice(list_of_parent))\n",
        "      pasangan.append(pairs)\n",
        "\n",
        "  # mengcopy hasil individu terpilih untuk individu yang nilainya sama misal [9.9] \n",
        "  # salah satu individunya di hapus, biar nggak merubah master selected_individunya\n",
        "  individu = copy.deepcopy(list_of_parent)\n",
        "\n",
        "  # misal ada hasil pasangan yang nilainya sama [9,9]\n",
        "  for i in range(len(pasangan)):\n",
        "    if pasangan[i][0] == pasangan[i][1]:\n",
        "      a = pasangan[i][0]\n",
        "      try :\n",
        "        individu.remove(a)\n",
        "      except:\n",
        "        pass\n",
        "      pasangan[i][1] = random.choice(individu)\n",
        "      \n",
        "  return pasangan"
      ],
      "execution_count": null,
      "outputs": []
    },
    {
      "cell_type": "code",
      "metadata": {
        "id": "xxKpb0Ydyr-d"
      },
      "source": [
        "def arithcross(pasangan, populasi):\n",
        "  # mencari lokasi gen yang di crossover\n",
        "  gen_location = round(len(populasi[1])/2)\n",
        "\n",
        "  # membangkitkan nilai random\n",
        "  alfa = round(random.random(),1)\n",
        "\n",
        "  # membagi pasangan [7,8] yang 7 ditaruh di offspring1, 8 ditaruh di offspring2\n",
        "  offspring1 = []\n",
        "  offspring2 = []\n",
        "  for i in range(len(pasangan)):\n",
        "    offspring1.append(populasi[pasangan[i][0]])\n",
        "    offspring2.append(populasi[pasangan[i][1]])\n",
        "\n",
        "  # crossover dg arithcross\n",
        "  for i in range(len(pasangan)):\n",
        "    offspring1[i][gen_location] = round(((alfa*offspring1[i][gen_location])+((1-alfa)*offspring2[i][gen_location])), 2)\n",
        "    offspring2[i][gen_location] = round(((alfa*offspring2[i][gen_location])+((1-alfa)*offspring1[i][gen_location])), 2)\n",
        "  \n",
        "  # menggabungkan nilai offspring1, offspring2, sesuai urutan crossover\n",
        "  offspring = []\n",
        "  for i in range(len(offspring1)):\n",
        "    offspring.append(offspring1[i])\n",
        "    offspring.append(offspring2[i])\n",
        "  return offspring"
      ],
      "execution_count": null,
      "outputs": []
    },
    {
      "cell_type": "code",
      "metadata": {
        "id": "CjL386nWPHBk"
      },
      "source": [
        "def simple_arithcross(pasangan, populasi):\n",
        "  # mencari lokasi gen yang di crossover\n",
        "  gen_location =  int(round(len(populasi[0])/2))\n",
        "\n",
        "  # membangkitkan nilai random\n",
        "  alfa = round(random.random(),1)\n",
        "\n",
        "  # membagi pasangan [7,8] yang 7 ditaruh di offspring1, 8 ditaruh di offspring2\n",
        "  offspring1 = []\n",
        "  offspring2 = []\n",
        "  for i in range(0, len(pasangan)):\n",
        "    offspring1.append(populasi[pasangan[i][0]])\n",
        "    offspring2.append(populasi[pasangan[i][1]])\n",
        "\n",
        "  # crossover dg arithcross\n",
        "  for i in range(len(pasangan)):\n",
        "    for j in range(gen_location, len(offspring1[i])):\n",
        "      offspring1[i][j] = round(((alfa*offspring1[i][j])+((1-alfa)*offspring2[i][j])), 2)\n",
        "      offspring2[i][j] = round(((alfa*offspring2[i][j])+((1-alfa)*offspring1[i][j])), 2)\n",
        "  \n",
        "  # menggabungkan nilai offspring1, offspring2, sesuai urutan crossover\n",
        "  offspring = []\n",
        "  for i in range(len(offspring1)):\n",
        "    offspring.append(offspring1[i])\n",
        "    offspring.append(offspring2[i])\n",
        "  return offspring"
      ],
      "execution_count": null,
      "outputs": []
    },
    {
      "cell_type": "code",
      "metadata": {
        "id": "_eyFZs8eYhVv"
      },
      "source": [
        "def single_arithcross(pasangan, populasi):\n",
        "  # mencari lokasi gen yang di crossover\n",
        "  gen_location =  int(round(len(populasi[0])/2))\n",
        "\n",
        "  # membangkitkan nilai random\n",
        "  alfa = round(random.random(),1)\n",
        "\n",
        "  # membagi pasangan [7,8] yang 7 ditaruh di offspring1, 8 ditaruh di offspring2\n",
        "  offspring1 = []\n",
        "  offspring2 = []\n",
        "  for i in range(0, len(pasangan)):\n",
        "    offspring1.append(populasi[pasangan[i][0]])\n",
        "    offspring2.append(populasi[pasangan[i][1]])\n",
        "\n",
        "  # crossover dg arithcross\n",
        "  for i in range(len(pasangan)):\n",
        "    offspring1[i][gen_location] = round(((alfa*offspring1[i][gen_location])+((1-alfa)*offspring2[i][gen_location])), 2)\n",
        "    offspring2[i][gen_location] = round(((alfa*offspring2[i][gen_location])+((1-alfa)*offspring1[i][gen_location])), 2)\n",
        "  \n",
        "  # menggabungkan nilai offspring1, offspring2, sesuai urutan crossover\n",
        "  offspring = []\n",
        "  for i in range(len(offspring1)):\n",
        "    offspring.append(offspring1[i])\n",
        "    offspring.append(offspring2[i])\n",
        "  return offspring"
      ],
      "execution_count": null,
      "outputs": []
    },
    {
      "cell_type": "markdown",
      "metadata": {
        "id": "UttXRnQUt5Ys"
      },
      "source": [
        "#### One Point Crossover"
      ]
    },
    {
      "cell_type": "code",
      "metadata": {
        "id": "G-oyYxeyNVSM"
      },
      "source": [
        "def one_point_crossover(pasangan, populasi): #crossover method\n",
        "  randomNodeSwitched = random.randint(0,genPerIndividu-1)\n",
        "  offsprings = []\n",
        "  for pair in pasangan:\n",
        "    offspring_1 = copy.deepcopy(populasi[pair[0]])\n",
        "    offspring_2 = copy.deepcopy(populasi[pair[1]])\n",
        "\n",
        "    offspring_1[randomNodeSwitched] = populasi[pair[1]][randomNodeSwitched]\n",
        "    offspring_2[randomNodeSwitched] = populasi[pair[0]][randomNodeSwitched]\n",
        "\n",
        "    offsprings.append(offspring_1)\n",
        "    offsprings.append(offspring_2)\n",
        "  return offsprings"
      ],
      "execution_count": null,
      "outputs": []
    },
    {
      "cell_type": "markdown",
      "metadata": {
        "id": "el0mpvHCtP-W"
      },
      "source": [
        "#### Mutation"
      ]
    },
    {
      "cell_type": "code",
      "metadata": {
        "id": "Ba5VdU27zbLA"
      },
      "source": [
        "def mutation(offspring, pm): #mutation method\n",
        "  totalGen = len(offspring) * genPerIndividu\n",
        "  jmlGenTermutasi = int(round(pm * totalGen))\n",
        "\n",
        "  for index in range(jmlGenTermutasi):\n",
        "    genTermutasi = random.randint(0, totalGen-1)\n",
        "    indexOffspring = int(genTermutasi/genPerIndividu)\n",
        "    nodeOffspring = genTermutasi % genPerIndividu\n",
        "\n",
        "    offspring[indexOffspring][nodeOffspring] = random.random() * random.choice([-1 ,1]) * 10**random.randint(0,3)\n",
        "\n",
        "  return offspring\n",
        "  #offspring semua setelah mutasi\n",
        "  #[[1,2,3,10,5], [x,y,z,v,w]]"
      ],
      "execution_count": null,
      "outputs": []
    },
    {
      "cell_type": "markdown",
      "metadata": {
        "id": "ghySmBgut0Tg"
      },
      "source": [
        "#### Elitism Selection"
      ]
    },
    {
      "cell_type": "code",
      "metadata": {
        "id": "fVRSQbnhe2An"
      },
      "source": [
        "def elitism(hasil_eval_anak, hasil_eval):\n",
        "  individu = populasi + offspring\n",
        "  df = pd.DataFrame(individu)\n",
        "  fitness = hasil_eval + hasil_eval_anak\n",
        "  df['fitness'] = fitness\n",
        "  ordered_df = df.sort_values('fitness', ascending=False)\n",
        "  best_fitness = ordered_df.fitness[0]\n",
        "  return (ordered_df.drop(columns='fitness').values.tolist()[:numOfPopulasi], best_fitness)"
      ],
      "execution_count": null,
      "outputs": []
    },
    {
      "cell_type": "code",
      "metadata": {
        "id": "aEAFMZ3ee5rG"
      },
      "source": [
        "numOfPopulasi = 100\n",
        "generasi = 200\n",
        "probability_crossover = 0.6\n",
        "probability_mutation = 0.05\n",
        "genPerIndividu = slidingWindow"
      ],
      "execution_count": null,
      "outputs": []
    },
    {
      "cell_type": "code",
      "metadata": {
        "id": "p58bVLwC0S9D",
        "colab": {
          "base_uri": "https://localhost:8080/"
        },
        "outputId": "532cd335-76ff-4693-dff6-359ddfa270cf"
      },
      "source": [
        "best_fitness = []\n",
        "populasi = random_generasi()\n",
        "\n",
        "for curr_gen in range(generasi):\n",
        "  hasil_eval = evaluasi_fitness(populasi)\n",
        "  pasangan = roulletewheel(populasi, hasil_eval, probability_crossover)\n",
        "\n",
        "  offspring = one_point_crossover(pasangan, populasi)\n",
        "  #offspring = single_arithcross(pasangan, populasi)\n",
        "  #offspring = simple_arithcross(pasangan, populasi)\n",
        "\n",
        "  offspring = mutation(offspring, probability_mutation)\n",
        "  hasil_eval_anak = evaluasi_fitness(offspring)\n",
        "  populasi, curr_best_fitness = elitism(hasil_eval_anak, hasil_eval)\n",
        "  best_fitness.append(curr_best_fitness)"
      ],
      "execution_count": null,
      "outputs": [
        {
          "output_type": "stream",
          "text": [
            "/usr/local/lib/python3.7/dist-packages/ipykernel_launcher.py:4: RuntimeWarning: divide by zero encountered in double_scalars\n",
            "  after removing the cwd from sys.path.\n"
          ],
          "name": "stderr"
        }
      ]
    },
    {
      "cell_type": "code",
      "metadata": {
        "id": "YWanKHtpfCg8",
        "colab": {
          "base_uri": "https://localhost:8080/",
          "height": 279
        },
        "outputId": "37f9ae69-71f3-48d6-90b3-48b94abe5500"
      },
      "source": [
        "plt.plot(best_fitness)\n",
        "plt.xlabel('Generasi')\n",
        "plt.ylabel('Fitness')\n",
        "plt.show()"
      ],
      "execution_count": null,
      "outputs": [
        {
          "output_type": "display_data",
          "data": {
            "image/png": "[encoded data removed]",
            "text/plain": [
              "<Figure size 432x288 with 1 Axes>"
            ]
          },
          "metadata": {
            "tags": [],
            "needs_background": "light"
          }
        }
      ]
    },
    {
      "cell_type": "code",
      "metadata": {
        "colab": {
          "base_uri": "https://localhost:8080/"
        },
        "id": "7YoHW9TcLiwL",
        "outputId": "8718c224-c632-43f5-ec9e-217cfef8626b"
      },
      "source": [
        "best_fitness[generasi-1]"
      ],
      "execution_count": null,
      "outputs": [
        {
          "output_type": "execute_result",
          "data": {
            "text/plain": [
              "6.03782399890909"
            ]
          },
          "metadata": {
            "tags": []
          },
          "execution_count": 184
        }
      ]
    },
    {
      "cell_type": "code",
      "metadata": {
        "colab": {
          "base_uri": "https://localhost:8080/"
        },
        "id": "CiwNLsR_Lm8t",
        "outputId": "221c8b4d-ac42-4f48-fb6c-82daddb32596"
      },
      "source": [
        "populasi[0]"
      ],
      "execution_count": null,
      "outputs": [
        {
          "output_type": "execute_result",
          "data": {
            "text/plain": [
              "[-6.39, 5.2194995695282405, 0.7726183556536578, 0.92, 2.428659557565269]"
            ]
          },
          "metadata": {
            "tags": []
          },
          "execution_count": 185
        }
      ]
    },
    {
      "cell_type": "code",
      "metadata": {
        "id": "D4JqEN-7LnkI"
      },
      "source": [
        "best_individu_pred = hitung_y_pred(populasi[0])"
      ],
      "execution_count": null,
      "outputs": []
    },
    {
      "cell_type": "code",
      "metadata": {
        "colab": {
          "base_uri": "https://localhost:8080/"
        },
        "id": "wYQy-U3jLp1O",
        "outputId": "70bc1392-7374-4e6c-8124-7ee97f809173"
      },
      "source": [
        "diff = []\n",
        "for index in range(len(dataset_y)):\n",
        "  diff.append(abs((best_individu_pred[index] - dataset_y[index])/best_individu_pred[index]))\n",
        "\n",
        "mape = sum(diff) / len(diff)\n",
        "mape"
      ],
      "execution_count": null,
      "outputs": [
        {
          "output_type": "execute_result",
          "data": {
            "text/plain": [
              "0.15562258194022868"
            ]
          },
          "metadata": {
            "tags": []
          },
          "execution_count": 187
        }
      ]
    },
    {
      "cell_type": "code",
      "metadata": {
        "colab": {
          "base_uri": "https://localhost:8080/",
          "height": 1000
        },
        "id": "gPYr_dHgLsSu",
        "outputId": "a0d74d42-6531-46f5-aa7e-c63975dc0e4b"
      },
      "source": [
        "newDf = pd.DataFrame(best_individu_pred)\n",
        "newDf['y_target'] = dataset_y\n",
        "newDf"
      ],
      "execution_count": null,
      "outputs": [
        {
          "output_type": "execute_result",
          "data": {
            "text/html": [
              "<div>\n",
              "<style scoped>\n",
              "    .dataframe tbody tr th:only-of-type {\n",
              "        vertical-align: middle;\n",
              "    }\n",
              "\n",
              "    .dataframe tbody tr th {\n",
              "        vertical-align: top;\n",
              "    }\n",
              "\n",
              "    .dataframe thead th {\n",
              "        text-align: right;\n",
              "    }\n",
              "</style>\n",
              "<table border=\"1\" class=\"dataframe\">\n",
              "  <thead>\n",
              "    <tr style=\"text-align: right;\">\n",
              "      <th></th>\n",
              "      <th>0</th>\n",
              "      <th>y_target</th>\n",
              "    </tr>\n",
              "  </thead>\n",
              "  <tbody>\n",
              "    <tr>\n",
              "      <th>0</th>\n",
              "      <td>3.472895</td>\n",
              "      <td>4</td>\n",
              "    </tr>\n",
              "    <tr>\n",
              "      <th>1</th>\n",
              "      <td>5.312895</td>\n",
              "      <td>4</td>\n",
              "    </tr>\n",
              "    <tr>\n",
              "      <th>2</th>\n",
              "      <td>6.858132</td>\n",
              "      <td>6</td>\n",
              "    </tr>\n",
              "    <tr>\n",
              "      <th>3</th>\n",
              "      <td>19.137131</td>\n",
              "      <td>19</td>\n",
              "    </tr>\n",
              "    <tr>\n",
              "      <th>4</th>\n",
              "      <td>19.862368</td>\n",
              "      <td>27</td>\n",
              "    </tr>\n",
              "    <tr>\n",
              "      <th>5</th>\n",
              "      <td>47.705406</td>\n",
              "      <td>34</td>\n",
              "    </tr>\n",
              "    <tr>\n",
              "      <th>6</th>\n",
              "      <td>115.399847</td>\n",
              "      <td>69</td>\n",
              "    </tr>\n",
              "    <tr>\n",
              "      <th>7</th>\n",
              "      <td>111.694172</td>\n",
              "      <td>96</td>\n",
              "    </tr>\n",
              "    <tr>\n",
              "      <th>8</th>\n",
              "      <td>148.992311</td>\n",
              "      <td>117</td>\n",
              "    </tr>\n",
              "    <tr>\n",
              "      <th>9</th>\n",
              "      <td>327.125492</td>\n",
              "      <td>134</td>\n",
              "    </tr>\n",
              "    <tr>\n",
              "      <th>10</th>\n",
              "      <td>276.266966</td>\n",
              "      <td>172</td>\n",
              "    </tr>\n",
              "    <tr>\n",
              "      <th>11</th>\n",
              "      <td>261.440969</td>\n",
              "      <td>227</td>\n",
              "    </tr>\n",
              "    <tr>\n",
              "      <th>12</th>\n",
              "      <td>295.941959</td>\n",
              "      <td>309</td>\n",
              "    </tr>\n",
              "    <tr>\n",
              "      <th>13</th>\n",
              "      <td>503.586952</td>\n",
              "      <td>369</td>\n",
              "    </tr>\n",
              "    <tr>\n",
              "      <th>14</th>\n",
              "      <td>666.394134</td>\n",
              "      <td>450</td>\n",
              "    </tr>\n",
              "    <tr>\n",
              "      <th>15</th>\n",
              "      <td>863.820200</td>\n",
              "      <td>514</td>\n",
              "    </tr>\n",
              "    <tr>\n",
              "      <th>16</th>\n",
              "      <td>774.472261</td>\n",
              "      <td>579</td>\n",
              "    </tr>\n",
              "    <tr>\n",
              "      <th>17</th>\n",
              "      <td>923.099301</td>\n",
              "      <td>685</td>\n",
              "    </tr>\n",
              "    <tr>\n",
              "      <th>18</th>\n",
              "      <td>887.297466</td>\n",
              "      <td>790</td>\n",
              "    </tr>\n",
              "    <tr>\n",
              "      <th>19</th>\n",
              "      <td>996.102484</td>\n",
              "      <td>893</td>\n",
              "    </tr>\n",
              "    <tr>\n",
              "      <th>20</th>\n",
              "      <td>1309.904366</td>\n",
              "      <td>1046</td>\n",
              "    </tr>\n",
              "    <tr>\n",
              "      <th>21</th>\n",
              "      <td>1400.951511</td>\n",
              "      <td>1155</td>\n",
              "    </tr>\n",
              "    <tr>\n",
              "      <th>22</th>\n",
              "      <td>1486.100575</td>\n",
              "      <td>1285</td>\n",
              "    </tr>\n",
              "    <tr>\n",
              "      <th>23</th>\n",
              "      <td>1830.329410</td>\n",
              "      <td>1414</td>\n",
              "    </tr>\n",
              "    <tr>\n",
              "      <th>24</th>\n",
              "      <td>1640.705249</td>\n",
              "      <td>1528</td>\n",
              "    </tr>\n",
              "    <tr>\n",
              "      <th>25</th>\n",
              "      <td>1827.277961</td>\n",
              "      <td>1677</td>\n",
              "    </tr>\n",
              "    <tr>\n",
              "      <th>26</th>\n",
              "      <td>1895.051898</td>\n",
              "      <td>1790</td>\n",
              "    </tr>\n",
              "    <tr>\n",
              "      <th>27</th>\n",
              "      <td>1884.844984</td>\n",
              "      <td>1986</td>\n",
              "    </tr>\n",
              "    <tr>\n",
              "      <th>28</th>\n",
              "      <td>2201.716294</td>\n",
              "      <td>2092</td>\n",
              "    </tr>\n",
              "    <tr>\n",
              "      <th>29</th>\n",
              "      <td>2088.362943</td>\n",
              "      <td>2273</td>\n",
              "    </tr>\n",
              "    <tr>\n",
              "      <th>30</th>\n",
              "      <td>2637.732405</td>\n",
              "      <td>2491</td>\n",
              "    </tr>\n",
              "    <tr>\n",
              "      <th>31</th>\n",
              "      <td>2278.963281</td>\n",
              "      <td>2738</td>\n",
              "    </tr>\n",
              "    <tr>\n",
              "      <th>32</th>\n",
              "      <td>2942.023505</td>\n",
              "      <td>2956</td>\n",
              "    </tr>\n",
              "    <tr>\n",
              "      <th>33</th>\n",
              "      <td>3314.681145</td>\n",
              "      <td>3293</td>\n",
              "    </tr>\n",
              "    <tr>\n",
              "      <th>34</th>\n",
              "      <td>3689.348340</td>\n",
              "      <td>3512</td>\n",
              "    </tr>\n",
              "    <tr>\n",
              "      <th>35</th>\n",
              "      <td>3710.721632</td>\n",
              "      <td>3842</td>\n",
              "    </tr>\n",
              "    <tr>\n",
              "      <th>36</th>\n",
              "      <td>4549.476407</td>\n",
              "      <td>4241</td>\n",
              "    </tr>\n",
              "    <tr>\n",
              "      <th>37</th>\n",
              "      <td>4161.160870</td>\n",
              "      <td>4557</td>\n",
              "    </tr>\n",
              "    <tr>\n",
              "      <th>38</th>\n",
              "      <td>5083.180452</td>\n",
              "      <td>4839</td>\n",
              "    </tr>\n",
              "    <tr>\n",
              "      <th>39</th>\n",
              "      <td>5560.648181</td>\n",
              "      <td>5136</td>\n",
              "    </tr>\n",
              "    <tr>\n",
              "      <th>40</th>\n",
              "      <td>5151.518421</td>\n",
              "      <td>5516</td>\n",
              "    </tr>\n",
              "    <tr>\n",
              "      <th>41</th>\n",
              "      <td>5183.244951</td>\n",
              "      <td>5923</td>\n",
              "    </tr>\n",
              "    <tr>\n",
              "      <th>42</th>\n",
              "      <td>5599.491298</td>\n",
              "      <td>6248</td>\n",
              "    </tr>\n",
              "    <tr>\n",
              "      <th>43</th>\n",
              "      <td>6298.526806</td>\n",
              "      <td>6575</td>\n",
              "    </tr>\n",
              "    <tr>\n",
              "      <th>44</th>\n",
              "      <td>6546.604096</td>\n",
              "      <td>6760</td>\n",
              "    </tr>\n",
              "    <tr>\n",
              "      <th>45</th>\n",
              "      <td>6065.057658</td>\n",
              "      <td>7135</td>\n",
              "    </tr>\n",
              "  </tbody>\n",
              "</table>\n",
              "</div>"
            ],
            "text/plain": [
              "              0  y_target\n",
              "0      3.472895         4\n",
              "1      5.312895         4\n",
              "2      6.858132         6\n",
              "3     19.137131        19\n",
              "4     19.862368        27\n",
              "5     47.705406        34\n",
              "6    115.399847        69\n",
              "7    111.694172        96\n",
              "8    148.992311       117\n",
              "9    327.125492       134\n",
              "10   276.266966       172\n",
              "11   261.440969       227\n",
              "12   295.941959       309\n",
              "13   503.586952       369\n",
              "14   666.394134       450\n",
              "15   863.820200       514\n",
              "16   774.472261       579\n",
              "17   923.099301       685\n",
              "18   887.297466       790\n",
              "19   996.102484       893\n",
              "20  1309.904366      1046\n",
              "21  1400.951511      1155\n",
              "22  1486.100575      1285\n",
              "23  1830.329410      1414\n",
              "24  1640.705249      1528\n",
              "25  1827.277961      1677\n",
              "26  1895.051898      1790\n",
              "27  1884.844984      1986\n",
              "28  2201.716294      2092\n",
              "29  2088.362943      2273\n",
              "30  2637.732405      2491\n",
              "31  2278.963281      2738\n",
              "32  2942.023505      2956\n",
              "33  3314.681145      3293\n",
              "34  3689.348340      3512\n",
              "35  3710.721632      3842\n",
              "36  4549.476407      4241\n",
              "37  4161.160870      4557\n",
              "38  5083.180452      4839\n",
              "39  5560.648181      5136\n",
              "40  5151.518421      5516\n",
              "41  5183.244951      5923\n",
              "42  5599.491298      6248\n",
              "43  6298.526806      6575\n",
              "44  6546.604096      6760\n",
              "45  6065.057658      7135"
            ]
          },
          "metadata": {
            "tags": []
          },
          "execution_count": 188
        }
      ]
    },
    {
      "cell_type": "code",
      "metadata": {
        "colab": {
          "base_uri": "https://localhost:8080/",
          "height": 265
        },
        "id": "9xHTJXc5Lw31",
        "outputId": "dd226103-af36-4f03-9410-a16fe5d99a16"
      },
      "source": [
        "plt.plot(best_individu_pred)\n",
        "plt.plot(dataset_y)\n",
        "plt.show()"
      ],
      "execution_count": null,
      "outputs": [
        {
          "output_type": "display_data",
          "data": {
            "image/png": "[encoded data removed]",
            "text/plain": [
              "<Figure size 432x288 with 1 Axes>"
            ]
          },
          "metadata": {
            "tags": [],
            "needs_background": "light"
          }
        }
      ]
    },
    {
      "cell_type": "code",
      "metadata": {
        "id": "MJoBThjcpeKD",
        "colab": {
          "base_uri": "https://localhost:8080/"
        },
        "outputId": "bcebd7f6-3745-4926-fee9-3480d5a95b5c"
      },
      "source": [
        "A = populasi[0][0]\n",
        "B = populasi[0][1]\n",
        "C = populasi[0][2]\n",
        "D = populasi[0][3]\n",
        "E = populasi[0][4]\n",
        "\n",
        "prediksi_51 = A*dataset_x[-1][0] + B*dataset_x[-1][1] + C*dataset_x[-1][2] + D*dataset_x[-1][3] + E\n",
        "prediksi_51\n",
        "\n",
        "prediksi_52 = A*dataset_x[-1][1] + B*dataset_x[-1][2] + C*dataset_x[-1][3] + D*prediksi_51 + E\n",
        "prediksi_52\n",
        "\n"
      ],
      "execution_count": null,
      "outputs": [
        {
          "output_type": "execute_result",
          "data": {
            "text/plain": [
              "7705.751402693874"
            ]
          },
          "metadata": {
            "tags": []
          },
          "execution_count": 209
        }
      ]
    },
    {
      "cell_type": "code",
      "metadata": {
        "colab": {
          "base_uri": "https://localhost:8080/"
        },
        "id": "4mCKOn-GrHRY",
        "outputId": "18f0889b-4110-435b-bcdc-4466280978b8"
      },
      "source": [
        "print(\"Prediksi hari ke 51 dan 52 berturut - turut adalah\", prediksi_51, prediksi_52)"
      ],
      "execution_count": null,
      "outputs": [
        {
          "output_type": "execute_result",
          "data": {
            "text/plain": [
              "array([5923, 6248, 6575, 6760])"
            ]
          },
          "metadata": {
            "tags": []
          },
          "execution_count": 206
        }
      ]
    }
  ]
}