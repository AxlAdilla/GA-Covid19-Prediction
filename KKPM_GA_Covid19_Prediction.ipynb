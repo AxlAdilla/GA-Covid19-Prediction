{
  "nbformat": 4,
  "nbformat_minor": 0,
  "metadata": {
    "colab": {
      "name": "KKPM GA Covid19 Prediction.ipynb",
      "provenance": [],
      "collapsed_sections": [],
      "toc_visible": true
    },
    "kernelspec": {
      "name": "python3",
      "display_name": "Python 3"
    },
    "language_info": {
      "name": "python"
    }
  },
  "cells": [
    {
      "cell_type": "markdown",
      "metadata": {
        "id": "2C1Jyyxifthc"
      },
      "source": [
        "Kelompok : \n",
        "\n",
        "1.  Affi Nizar Suksmawati (20/466390/PPA/05956) \n",
        "2.  Affifah Mutiara Pertiwi (20/466391/PPA/05957)\n",
        "3.  Axl Adilla  (20/466397/PPA/05963)\n",
        "4.  Bagaskoro Saputro (20/466398/PPA/05964)"
      ]
    },
    {
      "cell_type": "markdown",
      "metadata": {
        "id": "jDVp61sEfpqK"
      },
      "source": [
        "---"
      ]
    },
    {
      "cell_type": "markdown",
      "metadata": {
        "id": "gBChy7I4fmYj"
      },
      "source": [
        "### Import Dataset"
      ]
    },
    {
      "cell_type": "code",
      "metadata": {
        "colab": {
          "base_uri": "https://localhost:8080/"
        },
        "id": "xp845jn-bAUd",
        "outputId": "54f088f7-59a1-4b53-9c4e-0a43c82c71dd"
      },
      "source": [
        "!wget 'https://raw.githubusercontent.com/AxlAdilla/GA-Covid19-Prediction/main/50DataKawalCovid.csv'"
      ],
      "execution_count": null,
      "outputs": [
        {
          "output_type": "stream",
          "text": [
            "--2021-04-06 15:12:44--  https://raw.githubusercontent.com/AxlAdilla/GA-Covid19-Prediction/main/50DataKawalCovid.csv\n",
            "Resolving raw.githubusercontent.com (raw.githubusercontent.com)... 185.199.108.133, 185.199.109.133, 185.199.110.133, ...\n",
            "Connecting to raw.githubusercontent.com (raw.githubusercontent.com)|185.199.108.133|:443... connected.\n",
            "HTTP request sent, awaiting response... 200 OK\n",
            "Length: 556 [text/plain]\n",
            "Saving to: ‘50DataKawalCovid.csv’\n",
            "\n",
            "50DataKawalCovid.cs 100%[===================>]     556  --.-KB/s    in 0s      \n",
            "\n",
            "2021-04-06 15:12:45 (21.0 MB/s) - ‘50DataKawalCovid.csv’ saved [556/556]\n",
            "\n"
          ],
          "name": "stdout"
        }
      ]
    },
    {
      "cell_type": "markdown",
      "metadata": {
        "id": "_HGzetBxgkiT"
      },
      "source": [
        "### Import Library"
      ]
    },
    {
      "cell_type": "code",
      "metadata": {
        "id": "t0YdSyJscy1k"
      },
      "source": [
        "import pandas as pd\n",
        "import numpy as np\n",
        "import random\n",
        "import math\n",
        "import copy\n",
        "import matplotlib.pyplot as plt"
      ],
      "execution_count": null,
      "outputs": []
    },
    {
      "cell_type": "code",
      "metadata": {
        "colab": {
          "base_uri": "https://localhost:8080/",
          "height": 204
        },
        "id": "uR1_a4gCc0py",
        "outputId": "ef21392a-ecef-4f57-e5e9-10282a4302fd"
      },
      "source": [
        "raw = pd.read_csv('50DataKawalCovid.csv')\n",
        "raw.head()"
      ],
      "execution_count": null,
      "outputs": [
        {
          "output_type": "execute_result",
          "data": {
            "text/html": [
              "<div>\n",
              "<style scoped>\n",
              "    .dataframe tbody tr th:only-of-type {\n",
              "        vertical-align: middle;\n",
              "    }\n",
              "\n",
              "    .dataframe tbody tr th {\n",
              "        vertical-align: top;\n",
              "    }\n",
              "\n",
              "    .dataframe thead th {\n",
              "        text-align: right;\n",
              "    }\n",
              "</style>\n",
              "<table border=\"1\" class=\"dataframe\">\n",
              "  <thead>\n",
              "    <tr style=\"text-align: right;\">\n",
              "      <th></th>\n",
              "      <th>date</th>\n",
              "      <th>total_case</th>\n",
              "    </tr>\n",
              "  </thead>\n",
              "  <tbody>\n",
              "    <tr>\n",
              "      <th>0</th>\n",
              "      <td>2-Mar</td>\n",
              "      <td>2</td>\n",
              "    </tr>\n",
              "    <tr>\n",
              "      <th>1</th>\n",
              "      <td>3-Mar</td>\n",
              "      <td>2</td>\n",
              "    </tr>\n",
              "    <tr>\n",
              "      <th>2</th>\n",
              "      <td>4-Mar</td>\n",
              "      <td>2</td>\n",
              "    </tr>\n",
              "    <tr>\n",
              "      <th>3</th>\n",
              "      <td>5-Mar</td>\n",
              "      <td>2</td>\n",
              "    </tr>\n",
              "    <tr>\n",
              "      <th>4</th>\n",
              "      <td>6-Mar</td>\n",
              "      <td>4</td>\n",
              "    </tr>\n",
              "  </tbody>\n",
              "</table>\n",
              "</div>"
            ],
            "text/plain": [
              "    date  total_case\n",
              "0  2-Mar           2\n",
              "1  3-Mar           2\n",
              "2  4-Mar           2\n",
              "3  5-Mar           2\n",
              "4  6-Mar           4"
            ]
          },
          "metadata": {
            "tags": []
          },
          "execution_count": 4
        }
      ]
    },
    {
      "cell_type": "markdown",
      "metadata": {
        "id": "5BwX11ykfkqu"
      },
      "source": [
        "### Preprocessing Data "
      ]
    },
    {
      "cell_type": "code",
      "metadata": {
        "colab": {
          "base_uri": "https://localhost:8080/"
        },
        "id": "Sg9blofgc_cH",
        "outputId": "1426582d-a4df-4e06-f6ef-382cc6507088"
      },
      "source": [
        "slidingWindow = 5\n",
        "\n",
        "dataset = []\n",
        "numOfData = len(raw) - (slidingWindow-1)\n",
        "for i in range(numOfData):\n",
        "  rowData = []\n",
        "  for j in range(slidingWindow):\n",
        "    rowData.append(raw.total_case[j + i])\n",
        "  dataset.append(rowData)\n",
        "\n",
        "dataset = np.array(dataset)\n",
        "dataset[:5]"
      ],
      "execution_count": null,
      "outputs": [
        {
          "output_type": "execute_result",
          "data": {
            "text/plain": [
              "array([[ 2,  2,  2,  2,  4],\n",
              "       [ 2,  2,  2,  4,  4],\n",
              "       [ 2,  2,  4,  4,  6],\n",
              "       [ 2,  4,  4,  6, 19],\n",
              "       [ 4,  4,  6, 19, 27]])"
            ]
          },
          "metadata": {
            "tags": []
          },
          "execution_count": 5
        }
      ]
    },
    {
      "cell_type": "code",
      "metadata": {
        "colab": {
          "base_uri": "https://localhost:8080/"
        },
        "id": "xlypNBpceHwC",
        "outputId": "7c6586df-bfba-41e0-a1a7-37feef23f8c5"
      },
      "source": [
        "dataset_x = dataset[:,:4]\n",
        "dataset_x[:5]"
      ],
      "execution_count": null,
      "outputs": [
        {
          "output_type": "execute_result",
          "data": {
            "text/plain": [
              "array([[ 2,  2,  2,  2],\n",
              "       [ 2,  2,  2,  4],\n",
              "       [ 2,  2,  4,  4],\n",
              "       [ 2,  4,  4,  6],\n",
              "       [ 4,  4,  6, 19]])"
            ]
          },
          "metadata": {
            "tags": []
          },
          "execution_count": 6
        }
      ]
    },
    {
      "cell_type": "code",
      "metadata": {
        "colab": {
          "base_uri": "https://localhost:8080/"
        },
        "id": "JIEypX9veHY7",
        "outputId": "91f8a751-5a6b-46aa-ce59-fa3a25107202"
      },
      "source": [
        "dataset_y = dataset[:,4]\n",
        "dataset_y[:5]"
      ],
      "execution_count": null,
      "outputs": [
        {
          "output_type": "execute_result",
          "data": {
            "text/plain": [
              "array([ 4,  4,  6, 19, 27])"
            ]
          },
          "metadata": {
            "tags": []
          },
          "execution_count": 7
        }
      ]
    },
    {
      "cell_type": "markdown",
      "metadata": {
        "id": "-0XzbBxEg2zr"
      },
      "source": [
        "---\n"
      ]
    },
    {
      "cell_type": "markdown",
      "metadata": {
        "id": "WznELOdmmG3g"
      },
      "source": [
        "### Source Code"
      ]
    },
    {
      "cell_type": "markdown",
      "metadata": {
        "id": "OiU3_r9Ssvg3"
      },
      "source": [
        "####Random Gen\n"
      ]
    },
    {
      "cell_type": "code",
      "metadata": {
        "id": "bM-b2FykioHO"
      },
      "source": [
        "def random_generasi(): #Random Generasi Pertama\n",
        "  populasi = []\n",
        "  for i in range(numOfPopulasi):\n",
        "    individu = []\n",
        "    for j in range(genPerIndividu):\n",
        "      gen = random.random() * random.choice([-1 ,1]) * 10**random.randint(0,3)\n",
        "      individu.append(round(gen, 2))\n",
        "    populasi.append(individu)\n",
        "\n",
        "  return populasi\n",
        "  #populasi [[0.9, a, a,a,a], [b,b,b,b,b]]"
      ],
      "execution_count": null,
      "outputs": []
    },
    {
      "cell_type": "code",
      "metadata": {
        "id": "fXbSXlCN_vK7"
      },
      "source": [
        "def hitung_y_pred(individu):\n",
        "  arr_y_pred = []\n",
        "  for data_x in dataset_x:\n",
        "    y_pred = 0\n",
        "    for key, gen in enumerate(individu[:-1]):\n",
        "      y_pred += gen * data_x[key]\n",
        "    y_pred += individu[-1]\n",
        "    arr_y_pred.append(y_pred)\n",
        "\n",
        "  return arr_y_pred"
      ],
      "execution_count": null,
      "outputs": []
    },
    {
      "cell_type": "code",
      "metadata": {
        "id": "nku0n2HNeoqo"
      },
      "source": [
        "def hitung_fitness(individu_pred):\n",
        "  diff = []\n",
        "  for index in range(len(dataset_y)):\n",
        "    diff.append(abs((individu_pred[index] - dataset_y[index])/individu_pred[index]))\n",
        "  cost = sum(diff) / len(diff)\n",
        "\n",
        "  return 1/(cost + 0.01)"
      ],
      "execution_count": null,
      "outputs": []
    },
    {
      "cell_type": "markdown",
      "metadata": {
        "id": "C1pXF7oJs2_y"
      },
      "source": [
        "####Evaluasi Fitness"
      ]
    },
    {
      "cell_type": "code",
      "metadata": {
        "id": "5O0mB5qA_yHr"
      },
      "source": [
        "def evaluasi_fitness(populasi): #Hitung Fitness\n",
        "  fitness_individu = []\n",
        "  for individu in populasi:\n",
        "    individu_pred = hitung_y_pred(individu)\n",
        "    fitness_individu.append(hitung_fitness(individu_pred))\n",
        "\n",
        "  return fitness_individu\n",
        "#[0.1, 0.2, 0.3]"
      ],
      "execution_count": null,
      "outputs": []
    },
    {
      "cell_type": "markdown",
      "metadata": {
        "id": "prFio50FtF_I"
      },
      "source": [
        "#### Roullete wheel"
      ]
    },
    {
      "cell_type": "code",
      "metadata": {
        "id": "SMESNf8Xr-f1"
      },
      "source": [
        "def roulletewheel(populasi, hasil_eval, pc): #selection method\n",
        "# pilihPasangan(populasi, hasil_eval, pc)\n",
        "  probability_populasi = []\n",
        "  total_fitness = sum(hasil_eval)\n",
        "  min = 0\n",
        "  for fitness in hasil_eval:\n",
        "    probability = fitness/total_fitness * 100 #perhitungan nilai probabilitas\n",
        "    max = min + probability                   #range min dan max kumulatif probabilitas\n",
        "    node = [probability, min, max]\n",
        "    min = max\n",
        "    probability_populasi.append(node)\n",
        "\n",
        "  return pilihPasangan(populasi, hasil_eval, pc, probability_populasi)\n",
        " #[[0, 3], [5, 1]]"
      ],
      "execution_count": null,
      "outputs": []
    },
    {
      "cell_type": "code",
      "metadata": {
        "id": "8rq7sWHQByJr"
      },
      "source": [
        "def pilihPasangan(populasi, hasil_eval, pc, probability_populasi):\n",
        "  # jumlah individu terpilih\n",
        "  selected_individu = int(round(len(populasi) * pc ))\n",
        "\n",
        "  # bilangan random untuk setiap individu\n",
        "  bil = []\n",
        "  for i in range(selected_individu):\n",
        "    bil.append(random.randint(0, 100))\n",
        "\n",
        "  # mencari range individu terpilih dari bilangan random yang dibangkitkan kumulatif / min max\n",
        "  list_of_parent = []\n",
        "  for i in range(selected_individu):\n",
        "    for key,probability in enumerate(probability_populasi):\n",
        "      if (probability[1] > bil[i] and probability[2] >= bil[i]):\n",
        "        list_of_parent.append(key)\n",
        "        break\n",
        "\n",
        "  # memilih pasangan dari list individu terpilih secara random\n",
        "  pasangan = []\n",
        "\n",
        "  # misal jumlah individu yang terpilih ganjil\n",
        "  if selected_individu % 2 == 1:\n",
        "    for i in range(round((selected_individu+1)/2)):\n",
        "      pairs = []\n",
        "      pairs.append(random.choice(list_of_parent))\n",
        "      pairs.append(random.choice(list_of_parent))\n",
        "      pasangan.append(pairs)\n",
        "\n",
        "  # misal jumlah individu yang terpilih genap\n",
        "  elif selected_individu % 2 == 0:\n",
        "    for i in range(round(selected_individu/2)):\n",
        "      pairs = []\n",
        "      pairs.append(random.choice(list_of_parent))\n",
        "      pairs.append(random.choice(list_of_parent))\n",
        "      pasangan.append(pairs)\n",
        "\n",
        "  # mengcopy hasil individu terpilih untuk individu yang nilainya sama misal [9.9] \n",
        "  # salah satu individunya di hapus, biar nggak merubah master selected_individunya\n",
        "  individu = copy.deepcopy(list_of_parent)\n",
        "\n",
        "  # misal ada hasil pasangan yang nilainya sama [9,9]\n",
        "  for i in range(len(pasangan)):\n",
        "    if pasangan[i][0] == pasangan[i][1]:\n",
        "      a = pasangan[i][0]\n",
        "      try :\n",
        "        individu.remove(a)\n",
        "      except:\n",
        "        pass\n",
        "      pasangan[i][1] = random.choice(individu)\n",
        "      \n",
        "  return pasangan"
      ],
      "execution_count": null,
      "outputs": []
    },
    {
      "cell_type": "code",
      "metadata": {
        "id": "xxKpb0Ydyr-d"
      },
      "source": [
        "def arithcross(pasangan, populasi):\n",
        "  # mencari lokasi gen yang di crossover\n",
        "  gen_location = round(len(populasi[1])/2)\n",
        "\n",
        "  # membangkitkan nilai random\n",
        "  alfa = round(random.random(),1)\n",
        "\n",
        "  # membagi pasangan [7,8] yang 7 ditaruh di offspring1, 8 ditaruh di offspring2\n",
        "  offspring1 = []\n",
        "  offspring2 = []\n",
        "  for i in range(len(pasangan)):\n",
        "    offspring1.append(populasi[pasangan[i][0]])\n",
        "    offspring2.append(populasi[pasangan[i][1]])\n",
        "\n",
        "  # crossover dg arithcross\n",
        "  for i in range(len(pasangan)):\n",
        "    offspring1[i][gen_location] = round(((alfa*offspring1[i][gen_location])+((1-alfa)*offspring2[i][gen_location])), 2)\n",
        "    offspring2[i][gen_location] = round(((alfa*offspring2[i][gen_location])+((1-alfa)*offspring1[i][gen_location])), 2)\n",
        "  \n",
        "  # menggabungkan nilai offspring1, offspring2, sesuai urutan crossover\n",
        "  offspring = []\n",
        "  for i in range(len(offspring1)):\n",
        "    offspring.append(offspring1[i])\n",
        "    offspring.append(offspring2[i])\n",
        "  return offspring"
      ],
      "execution_count": null,
      "outputs": []
    },
    {
      "cell_type": "markdown",
      "metadata": {
        "id": "qUzxNZQTzMM1"
      },
      "source": [
        "####Simple Aritmetic Crossover"
      ]
    },
    {
      "cell_type": "code",
      "metadata": {
        "id": "CjL386nWPHBk"
      },
      "source": [
        "def simple_arithcross(pasangan, populasi):\n",
        "  # mencari lokasi gen yang di crossover\n",
        "  gen_location =  int(round(len(populasi[0])/2))\n",
        "\n",
        "  # membangkitkan nilai random\n",
        "  alfa = round(random.random(),1)\n",
        "\n",
        "  # membagi pasangan [7,8] yang 7 ditaruh di offspring1, 8 ditaruh di offspring2\n",
        "  offspring1 = []\n",
        "  offspring2 = []\n",
        "  for i in range(0, len(pasangan)):\n",
        "    offspring1.append(populasi[pasangan[i][0]])\n",
        "    offspring2.append(populasi[pasangan[i][1]])\n",
        "\n",
        "  # crossover dg arithcross\n",
        "  for i in range(len(pasangan)):\n",
        "    for j in range(gen_location, len(offspring1[i])):\n",
        "      offspring1[i][j] = round(((alfa*offspring1[i][j])+((1-alfa)*offspring2[i][j])), 2)\n",
        "      offspring2[i][j] = round(((alfa*offspring2[i][j])+((1-alfa)*offspring1[i][j])), 2)\n",
        "  \n",
        "  # menggabungkan nilai offspring1, offspring2, sesuai urutan crossover\n",
        "  offspring = []\n",
        "  for i in range(len(offspring1)):\n",
        "    offspring.append(offspring1[i])\n",
        "    offspring.append(offspring2[i])\n",
        "  return offspring"
      ],
      "execution_count": null,
      "outputs": []
    },
    {
      "cell_type": "markdown",
      "metadata": {
        "id": "rBXIKQZKzHrR"
      },
      "source": [
        "####Single Aritmetic Crossover"
      ]
    },
    {
      "cell_type": "code",
      "metadata": {
        "id": "_eyFZs8eYhVv"
      },
      "source": [
        "def single_arithcross(pasangan, populasi):\n",
        "  # mencari lokasi gen yang di crossover\n",
        "  gen_location =  int(round(len(populasi[0])/2))\n",
        "\n",
        "  # membangkitkan nilai random\n",
        "  alfa = round(random.random(),1)\n",
        "\n",
        "  # membagi pasangan [7,8] yang 7 ditaruh di offspring1, 8 ditaruh di offspring2\n",
        "  offspring1 = []\n",
        "  offspring2 = []\n",
        "  for i in range(0, len(pasangan)):\n",
        "    offspring1.append(populasi[pasangan[i][0]])\n",
        "    offspring2.append(populasi[pasangan[i][1]])\n",
        "\n",
        "  # crossover dg arithcross\n",
        "  for i in range(len(pasangan)):\n",
        "    offspring1[i][gen_location] = round(((alfa*offspring1[i][gen_location])+((1-alfa)*offspring2[i][gen_location])), 2)\n",
        "    offspring2[i][gen_location] = round(((alfa*offspring2[i][gen_location])+((1-alfa)*offspring1[i][gen_location])), 2)\n",
        "  \n",
        "  # menggabungkan nilai offspring1, offspring2, sesuai urutan crossover\n",
        "  offspring = []\n",
        "  for i in range(len(offspring1)):\n",
        "    offspring.append(offspring1[i])\n",
        "    offspring.append(offspring2[i])\n",
        "  return offspring"
      ],
      "execution_count": null,
      "outputs": []
    },
    {
      "cell_type": "markdown",
      "metadata": {
        "id": "UttXRnQUt5Ys"
      },
      "source": [
        "#### One Point Crossover"
      ]
    },
    {
      "cell_type": "code",
      "metadata": {
        "id": "G-oyYxeyNVSM"
      },
      "source": [
        "def one_point_crossover(pasangan, populasi): #crossover method\n",
        "  randomNodeSwitched = random.randint(0,genPerIndividu-1)\n",
        "  offsprings = []\n",
        "  for pair in pasangan:\n",
        "    offspring_1 = copy.deepcopy(populasi[pair[0]])\n",
        "    offspring_2 = copy.deepcopy(populasi[pair[1]])\n",
        "\n",
        "    offspring_1[randomNodeSwitched] = populasi[pair[1]][randomNodeSwitched]\n",
        "    offspring_2[randomNodeSwitched] = populasi[pair[0]][randomNodeSwitched]\n",
        "\n",
        "    offsprings.append(offspring_1)\n",
        "    offsprings.append(offspring_2)\n",
        "  return offsprings"
      ],
      "execution_count": null,
      "outputs": []
    },
    {
      "cell_type": "markdown",
      "metadata": {
        "id": "el0mpvHCtP-W"
      },
      "source": [
        "#### Mutation"
      ]
    },
    {
      "cell_type": "code",
      "metadata": {
        "id": "Ba5VdU27zbLA"
      },
      "source": [
        "def mutation(offspring, pm): #mutation method\n",
        "  totalGen = len(offspring) * genPerIndividu  # menghitung jumlah seluruh gen dalam offspring yang akan dimutasi\n",
        "  jmlGenTermutasi = int(round(pm * totalGen)) # menghitung jumlah gen yang akan bermutasi dengan probabilitas sejumlah pm\n",
        "\n",
        "  for index in range(jmlGenTermutasi):\n",
        "    genTermutasi = random.randint(0, totalGen-1)       # merandom indeks untuk gen terpilih\n",
        "    indexOffspring = int(genTermutasi/genPerIndividu)  # menentukan offspring terpilih\n",
        "    nodeOffspring = genTermutasi % genPerIndividu      # menentukan gen terpilih\n",
        "\n",
        "    offspring[indexOffspring][nodeOffspring] = random.random() * random.choice([-1 ,1]) * 10**random.randint(0,3)\n",
        "    # memutasikan gen terpilih\n",
        "\n",
        "  return offspring\n",
        "  #offspring semua setelah mutasi\n",
        "  #[[1,2,3,10,5], [x,y,z,v,w]]"
      ],
      "execution_count": null,
      "outputs": []
    },
    {
      "cell_type": "markdown",
      "metadata": {
        "id": "ghySmBgut0Tg"
      },
      "source": [
        "#### Elitism Selection"
      ]
    },
    {
      "cell_type": "code",
      "metadata": {
        "id": "fVRSQbnhe2An"
      },
      "source": [
        "def elitism(hasil_eval_anak, hasil_eval):\n",
        "  individu = populasi + offspring                         # mengumpulkan individu lama dan baru\n",
        "  df = pd.DataFrame(individu)\n",
        "  fitness = hasil_eval + hasil_eval_anak                  # mengumpulkan fitness tiap individu\n",
        "  df['fitness'] = fitness\n",
        "  ordered_df = df.sort_values('fitness', ascending=False) # menyatukan fitness dan individu\n",
        "  best_fitness = ordered_df.fitness[0]                    # mengurutkan individu berdasarkan fitness terbaik\n",
        "  return (ordered_df.drop(columns='fitness').values.tolist()[:numOfPopulasi], best_fitness)\n",
        "  # mengembalikan individu terpilih dengan nilai fitnessnya"
      ],
      "execution_count": null,
      "outputs": []
    },
    {
      "cell_type": "markdown",
      "metadata": {
        "id": "RghHY86czZYv"
      },
      "source": [
        ""
      ]
    },
    {
      "cell_type": "markdown",
      "metadata": {
        "id": "GNYGU2_fyqs9"
      },
      "source": [
        "####Program Utama"
      ]
    },
    {
      "cell_type": "code",
      "metadata": {
        "id": "aEAFMZ3ee5rG"
      },
      "source": [
        "numOfPopulasi = 100\n",
        "generasi = 200\n",
        "probability_crossover = 0.6\n",
        "probability_mutation = 0.05\n",
        "genPerIndividu = slidingWindow"
      ],
      "execution_count": null,
      "outputs": []
    },
    {
      "cell_type": "code",
      "metadata": {
        "id": "p58bVLwC0S9D"
      },
      "source": [
        "best_fitness = []\n",
        "populasi = random_generasi()\n",
        "\n",
        "for curr_gen in range(generasi):\n",
        "  hasil_eval = evaluasi_fitness(populasi)\n",
        "  pasangan = roulletewheel(populasi, hasil_eval, probability_crossover)\n",
        "\n",
        "  offspring = one_point_crossover(pasangan, populasi)\n",
        "  #offspring = single_arithcross(pasangan, populasi)\n",
        "  #offspring = simple_arithcross(pasangan, populasi)\n",
        "\n",
        "  offspring = mutation(offspring, probability_mutation)\n",
        "  hasil_eval_anak = evaluasi_fitness(offspring)\n",
        "  populasi, curr_best_fitness = elitism(hasil_eval_anak, hasil_eval)\n",
        "  best_fitness.append(curr_best_fitness)"
      ],
      "execution_count": null,
      "outputs": []
    },
    {
      "cell_type": "markdown",
      "metadata": {
        "id": "f9d8aWXvtZgm"
      },
      "source": [
        "####Individu Terbaik"
      ]
    },
    {
      "cell_type": "code",
      "metadata": {
        "id": "YWanKHtpfCg8",
        "colab": {
          "base_uri": "https://localhost:8080/",
          "height": 279
        },
        "outputId": "f7e847f0-d337-4ffa-d6e8-d3856a4b15ec"
      },
      "source": [
        "plt.plot(best_fitness)\n",
        "plt.xlabel('Generasi')\n",
        "plt.ylabel('Fitness')\n",
        "plt.show()"
      ],
      "execution_count": null,
      "outputs": [
        {
          "output_type": "display_data",
          "data": {
            "image/png": "[encoded data removed]",
            "text/plain": [
              "<Figure size 432x288 with 1 Axes>"
            ]
          },
          "metadata": {
            "tags": [],
            "needs_background": "light"
          }
        }
      ]
    },
    {
      "cell_type": "code",
      "metadata": {
        "colab": {
          "base_uri": "https://localhost:8080/"
        },
        "id": "7YoHW9TcLiwL",
        "outputId": "93e4e039-98a1-4ddb-d91d-07de3c602cb1"
      },
      "source": [
        "best_fitness[generasi-1]"
      ],
      "execution_count": null,
      "outputs": [
        {
          "output_type": "execute_result",
          "data": {
            "text/plain": [
              "10.565760341595876"
            ]
          },
          "metadata": {
            "tags": []
          },
          "execution_count": 23
        }
      ]
    },
    {
      "cell_type": "code",
      "metadata": {
        "colab": {
          "base_uri": "https://localhost:8080/"
        },
        "id": "CiwNLsR_Lm8t",
        "outputId": "65e428d3-1707-4db3-e0f0-c6d4a8a33d6e"
      },
      "source": [
        "populasi[0]"
      ],
      "execution_count": null,
      "outputs": [
        {
          "output_type": "execute_result",
          "data": {
            "text/plain": [
              "[-0.5499015389667198,\n",
              " 0.22000524345447403,\n",
              " 0.4944001432502322,\n",
              " 0.87,\n",
              " 8.864113578747851]"
            ]
          },
          "metadata": {
            "tags": []
          },
          "execution_count": 24
        }
      ]
    },
    {
      "cell_type": "markdown",
      "metadata": {
        "id": "jv1BP5LZthHk"
      },
      "source": [
        "####Error dengan MAPE"
      ]
    },
    {
      "cell_type": "code",
      "metadata": {
        "id": "D4JqEN-7LnkI"
      },
      "source": [
        "best_individu_pred = hitung_y_pred(populasi[0])"
      ],
      "execution_count": null,
      "outputs": []
    },
    {
      "cell_type": "code",
      "metadata": {
        "colab": {
          "base_uri": "https://localhost:8080/"
        },
        "id": "wYQy-U3jLp1O",
        "outputId": "e29e3c62-5797-4a07-d9e7-c00cba07a4f3"
      },
      "source": [
        "diff = []\n",
        "for index in range(len(dataset_y)):\n",
        "  diff.append(abs((best_individu_pred[index] - dataset_y[index])/best_individu_pred[index]))\n",
        "\n",
        "mape = sum(diff) / len(diff)\n",
        "mape"
      ],
      "execution_count": null,
      "outputs": [
        {
          "output_type": "execute_result",
          "data": {
            "text/plain": [
              "0.08464534190342593"
            ]
          },
          "metadata": {
            "tags": []
          },
          "execution_count": 26
        }
      ]
    },
    {
      "cell_type": "markdown",
      "metadata": {
        "id": "e2MeM78ktzsY"
      },
      "source": [
        "#### Prediksi vs Aktual"
      ]
    },
    {
      "cell_type": "code",
      "metadata": {
        "colab": {
          "base_uri": "https://localhost:8080/",
          "height": 1000
        },
        "id": "gPYr_dHgLsSu",
        "outputId": "06680dc5-777a-441d-f8a4-cff6a16f62a4"
      },
      "source": [
        "newDf = pd.DataFrame(best_individu_pred)\n",
        "newDf['y_target'] = dataset_y\n",
        "newDf"
      ],
      "execution_count": null,
      "outputs": [
        {
          "output_type": "execute_result",
          "data": {
            "text/html": [
              "<div>\n",
              "<style scoped>\n",
              "    .dataframe tbody tr th:only-of-type {\n",
              "        vertical-align: middle;\n",
              "    }\n",
              "\n",
              "    .dataframe tbody tr th {\n",
              "        vertical-align: top;\n",
              "    }\n",
              "\n",
              "    .dataframe thead th {\n",
              "        text-align: right;\n",
              "    }\n",
              "</style>\n",
              "<table border=\"1\" class=\"dataframe\">\n",
              "  <thead>\n",
              "    <tr style=\"text-align: right;\">\n",
              "      <th></th>\n",
              "      <th>0</th>\n",
              "      <th>y_target</th>\n",
              "    </tr>\n",
              "  </thead>\n",
              "  <tbody>\n",
              "    <tr>\n",
              "      <th>0</th>\n",
              "      <td>10.933121</td>\n",
              "      <td>4</td>\n",
              "    </tr>\n",
              "    <tr>\n",
              "      <th>1</th>\n",
              "      <td>12.673121</td>\n",
              "      <td>4</td>\n",
              "    </tr>\n",
              "    <tr>\n",
              "      <th>2</th>\n",
              "      <td>13.661922</td>\n",
              "      <td>6</td>\n",
              "    </tr>\n",
              "    <tr>\n",
              "      <th>3</th>\n",
              "      <td>15.841932</td>\n",
              "      <td>19</td>\n",
              "    </tr>\n",
              "    <tr>\n",
              "      <th>4</th>\n",
              "      <td>27.040929</td>\n",
              "      <td>27</td>\n",
              "    </tr>\n",
              "    <tr>\n",
              "      <th>5</th>\n",
              "      <td>40.868142</td>\n",
              "      <td>34</td>\n",
              "    </tr>\n",
              "    <tr>\n",
              "      <th>6</th>\n",
              "      <td>52.673608</td>\n",
              "      <td>69</td>\n",
              "    </tr>\n",
              "    <tr>\n",
              "      <th>7</th>\n",
              "      <td>81.195731</td>\n",
              "      <td>96</td>\n",
              "    </tr>\n",
              "    <tr>\n",
              "      <th>8</th>\n",
              "      <td>119.130560</td>\n",
              "      <td>117</td>\n",
              "    </tr>\n",
              "    <tr>\n",
              "      <th>9</th>\n",
              "      <td>154.600237</td>\n",
              "      <td>134</td>\n",
              "    </tr>\n",
              "    <tr>\n",
              "      <th>10</th>\n",
              "      <td>166.466228</td>\n",
              "      <td>172</td>\n",
              "    </tr>\n",
              "    <tr>\n",
              "      <th>11</th>\n",
              "      <td>197.703799</td>\n",
              "      <td>227</td>\n",
              "    </tr>\n",
              "    <tr>\n",
              "      <th>12</th>\n",
              "      <td>256.533161</td>\n",
              "      <td>309</td>\n",
              "    </tr>\n",
              "    <tr>\n",
              "      <th>13</th>\n",
              "      <td>354.077042</td>\n",
              "      <td>369</td>\n",
              "    </tr>\n",
              "    <tr>\n",
              "      <th>14</th>\n",
              "      <td>438.021883</td>\n",
              "      <td>450</td>\n",
              "    </tr>\n",
              "    <tr>\n",
              "      <th>15</th>\n",
              "      <td>525.951737</td>\n",
              "      <td>514</td>\n",
              "    </tr>\n",
              "    <tr>\n",
              "      <th>16</th>\n",
              "      <td>589.786537</td>\n",
              "      <td>579</td>\n",
              "    </tr>\n",
              "    <tr>\n",
              "      <th>17</th>\n",
              "      <td>662.804479</td>\n",
              "      <td>685</td>\n",
              "    </tr>\n",
              "    <tr>\n",
              "      <th>18</th>\n",
              "      <td>756.698799</td>\n",
              "      <td>790</td>\n",
              "    </tr>\n",
              "    <tr>\n",
              "      <th>19</th>\n",
              "      <td>879.561857</td>\n",
              "      <td>893</td>\n",
              "    </tr>\n",
              "    <tr>\n",
              "      <th>20</th>\n",
              "      <td>1008.660827</td>\n",
              "      <td>1046</td>\n",
              "    </tr>\n",
              "    <tr>\n",
              "      <th>21</th>\n",
              "      <td>1157.505030</td>\n",
              "      <td>1155</td>\n",
              "    </tr>\n",
              "    <tr>\n",
              "      <th>22</th>\n",
              "      <td>1292.899130</td>\n",
              "      <td>1285</td>\n",
              "    </tr>\n",
              "    <tr>\n",
              "      <th>23</th>\n",
              "      <td>1436.909689</td>\n",
              "      <td>1414</td>\n",
              "    </tr>\n",
              "    <tr>\n",
              "      <th>24</th>\n",
              "      <td>1553.257344</td>\n",
              "      <td>1528</td>\n",
              "    </tr>\n",
              "    <tr>\n",
              "      <th>25</th>\n",
              "      <td>1684.876376</td>\n",
              "      <td>1677</td>\n",
              "    </tr>\n",
              "    <tr>\n",
              "      <th>26</th>\n",
              "      <td>1827.761469</td>\n",
              "      <td>1790</td>\n",
              "    </tr>\n",
              "    <tr>\n",
              "      <th>27</th>\n",
              "      <td>1953.880390</td>\n",
              "      <td>1986</td>\n",
              "    </tr>\n",
              "    <tr>\n",
              "      <th>28</th>\n",
              "      <td>2150.359612</td>\n",
              "      <td>2092</td>\n",
              "    </tr>\n",
              "    <tr>\n",
              "      <th>29</th>\n",
              "      <td>2282.407303</td>\n",
              "      <td>2273</td>\n",
              "    </tr>\n",
              "    <tr>\n",
              "      <th>30</th>\n",
              "      <td>2473.265872</td>\n",
              "      <td>2491</td>\n",
              "    </tr>\n",
              "    <tr>\n",
              "      <th>31</th>\n",
              "      <td>2667.952152</td>\n",
              "      <td>2738</td>\n",
              "    </tr>\n",
              "    <tr>\n",
              "      <th>32</th>\n",
              "      <td>2972.152769</td>\n",
              "      <td>2956</td>\n",
              "    </tr>\n",
              "    <tr>\n",
              "      <th>33</th>\n",
              "      <td>3232.358569</td>\n",
              "      <td>3293</td>\n",
              "    </tr>\n",
              "    <tr>\n",
              "      <th>34</th>\n",
              "      <td>3567.790560</td>\n",
              "      <td>3512</td>\n",
              "    </tr>\n",
              "    <tr>\n",
              "      <th>35</th>\n",
              "      <td>3837.068871</td>\n",
              "      <td>3842</td>\n",
              "    </tr>\n",
              "    <tr>\n",
              "      <th>36</th>\n",
              "      <td>4186.705734</td>\n",
              "      <td>4241</td>\n",
              "    </tr>\n",
              "    <tr>\n",
              "      <th>37</th>\n",
              "      <td>4559.852111</td>\n",
              "      <td>4557</td>\n",
              "    </tr>\n",
              "    <tr>\n",
              "      <th>38</th>\n",
              "      <td>4984.211062</td>\n",
              "      <td>4839</td>\n",
              "    </tr>\n",
              "    <tr>\n",
              "      <th>39</th>\n",
              "      <td>5292.096091</td>\n",
              "      <td>5136</td>\n",
              "    </tr>\n",
              "    <tr>\n",
              "      <th>40</th>\n",
              "      <td>5540.017874</td>\n",
              "      <td>5516</td>\n",
              "    </tr>\n",
              "    <tr>\n",
              "      <th>41</th>\n",
              "      <td>5905.727309</td>\n",
              "      <td>5923</td>\n",
              "    </tr>\n",
              "    <tr>\n",
              "      <th>42</th>\n",
              "      <td>6357.958687</td>\n",
              "      <td>6248</td>\n",
              "    </tr>\n",
              "    <tr>\n",
              "      <th>43</th>\n",
              "      <td>6762.210781</td>\n",
              "      <td>6575</td>\n",
              "    </tr>\n",
              "    <tr>\n",
              "      <th>44</th>\n",
              "      <td>7087.960377</td>\n",
              "      <td>6760</td>\n",
              "    </tr>\n",
              "    <tr>\n",
              "      <th>45</th>\n",
              "      <td>7258.271001</td>\n",
              "      <td>7135</td>\n",
              "    </tr>\n",
              "  </tbody>\n",
              "</table>\n",
              "</div>"
            ],
            "text/plain": [
              "              0  y_target\n",
              "0     10.933121         4\n",
              "1     12.673121         4\n",
              "2     13.661922         6\n",
              "3     15.841932        19\n",
              "4     27.040929        27\n",
              "5     40.868142        34\n",
              "6     52.673608        69\n",
              "7     81.195731        96\n",
              "8    119.130560       117\n",
              "9    154.600237       134\n",
              "10   166.466228       172\n",
              "11   197.703799       227\n",
              "12   256.533161       309\n",
              "13   354.077042       369\n",
              "14   438.021883       450\n",
              "15   525.951737       514\n",
              "16   589.786537       579\n",
              "17   662.804479       685\n",
              "18   756.698799       790\n",
              "19   879.561857       893\n",
              "20  1008.660827      1046\n",
              "21  1157.505030      1155\n",
              "22  1292.899130      1285\n",
              "23  1436.909689      1414\n",
              "24  1553.257344      1528\n",
              "25  1684.876376      1677\n",
              "26  1827.761469      1790\n",
              "27  1953.880390      1986\n",
              "28  2150.359612      2092\n",
              "29  2282.407303      2273\n",
              "30  2473.265872      2491\n",
              "31  2667.952152      2738\n",
              "32  2972.152769      2956\n",
              "33  3232.358569      3293\n",
              "34  3567.790560      3512\n",
              "35  3837.068871      3842\n",
              "36  4186.705734      4241\n",
              "37  4559.852111      4557\n",
              "38  4984.211062      4839\n",
              "39  5292.096091      5136\n",
              "40  5540.017874      5516\n",
              "41  5905.727309      5923\n",
              "42  6357.958687      6248\n",
              "43  6762.210781      6575\n",
              "44  7087.960377      6760\n",
              "45  7258.271001      7135"
            ]
          },
          "metadata": {
            "tags": []
          },
          "execution_count": 27
        }
      ]
    },
    {
      "cell_type": "code",
      "metadata": {
        "colab": {
          "base_uri": "https://localhost:8080/",
          "height": 265
        },
        "id": "9xHTJXc5Lw31",
        "outputId": "d623aa17-6bb3-40aa-928b-f2fb81189406"
      },
      "source": [
        "plt.plot(best_individu_pred)\n",
        "plt.plot(dataset_y)\n",
        "plt.show()"
      ],
      "execution_count": null,
      "outputs": [
        {
          "output_type": "display_data",
          "data": {
            "image/png": "[encoded data removed]",
            "text/plain": [
              "<Figure size 432x288 with 1 Axes>"
            ]
          },
          "metadata": {
            "tags": [],
            "needs_background": "light"
          }
        }
      ]
    },
    {
      "cell_type": "markdown",
      "metadata": {
        "id": "T2P3HzzOt7j5"
      },
      "source": [
        "#### Prediksi hari ke 51 dan 52"
      ]
    },
    {
      "cell_type": "code",
      "metadata": {
        "id": "MJoBThjcpeKD",
        "colab": {
          "base_uri": "https://localhost:8080/"
        },
        "outputId": "c478c704-ada0-488b-c465-672d79356653"
      },
      "source": [
        "A = populasi[0][0]\n",
        "B = populasi[0][1]\n",
        "C = populasi[0][2]\n",
        "D = populasi[0][3]\n",
        "E = populasi[0][4]\n",
        "\n",
        "prediksi_51 = A*dataset_x[-1][0] + B*dataset_x[-1][1] + C*dataset_x[-1][2] + D*dataset_x[-1][3] + E\n",
        "prediksi_51\n",
        "\n",
        "prediksi_52 = A*dataset_x[-1][1] + B*dataset_x[-1][2] + C*dataset_x[-1][3] + D*prediksi_51 + E\n",
        "prediksi_52\n",
        "\n"
      ],
      "execution_count": null,
      "outputs": [
        {
          "output_type": "execute_result",
          "data": {
            "text/plain": [
              "7676.454513289264"
            ]
          },
          "metadata": {
            "tags": []
          },
          "execution_count": 29
        }
      ]
    },
    {
      "cell_type": "code",
      "metadata": {
        "colab": {
          "base_uri": "https://localhost:8080/"
        },
        "id": "4mCKOn-GrHRY",
        "outputId": "5dc0e5f2-61e2-400c-afc5-d9ad44cca95c"
      },
      "source": [
        "print(\"Prediksi hari ke 51 dan 52 berturut - turut adalah\", round(prediksi_51), \"dan\", round(prediksi_52))"
      ],
      "execution_count": null,
      "outputs": [
        {
          "output_type": "stream",
          "text": [
            "Prediksi hari ke 51 dan 52 berturut - turut adalah 7258 dan 7676\n"
          ],
          "name": "stdout"
        }
      ]
    }
  ]
}